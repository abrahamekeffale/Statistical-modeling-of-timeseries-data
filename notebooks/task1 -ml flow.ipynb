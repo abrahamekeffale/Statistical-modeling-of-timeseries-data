# Import necessary libraries
import pandas as pd
import matplotlib.pyplot as plt
import seaborn as sns
import statsmodels.api as sm
from statsmodels.tsa.stattools import adfuller
import ruptures as rpt

# Set visualization style
sns.set(style="whitegrid")

# Load the dataset (replace 'your_file_path.csv' with the actual file path)
data = pd.read_csv('your_file_path.csv', parse_dates=['Date'], dayfirst=True)

# Display the first few rows to understand the data
print(data.head())

# Step 1: Data Preprocessing
# Ensure the data is sorted by date
data = data.sort_values('Date').reset_index(drop=True)

# Check for missing values
print("Missing values:\n", data.isnull().sum())

# Fill or interpolate missing prices, if any
data['Price'] = data['Price'].interpolate(method='linear')

# Step 2: Exploratory Data Analysis (EDA)
# Plot the time series of Brent oil prices
plt.figure(figsize=(14, 7))
plt.plot(data['Date'], data['Price'], color='blue')
plt.title("Brent Oil Prices Over Time")
plt.xlabel("Date")
plt.ylabel("Price (USD per barrel)")
plt.show()

# Descriptive statistics
print("Descriptive Statistics:\n", data['Price'].describe())

# Step 3: Change Point Detection using Ruptures Library
# Change point detection - using Pelt algorithm with a penalty value
algo = rpt.Pelt(model="rbf").fit(data['Price'].values)
result = algo.predict(pen=10)  # Adjust the penalty value to control sensitivity

# Plot the detected change points
plt.figure(figsize=(14, 7))
plt.plot(data['Date'], data['Price'], color='blue')
for cp in result:
    plt.axvline(data['Date'].iloc[cp], color='red', linestyle='--')
plt.title("Brent Oil Prices with Detected Change Points")
plt.xlabel("Date")
plt.ylabel("Price (USD per barrel)")
plt.show()

# Step 4: Stationarity Check using Augmented Dickey-Fuller (ADF) Test
# Define a function to perform the ADF test
def adf_test(timeseries):
    result = adfuller(timeseries)
    print('ADF Statistic:', result[0])
    print('p-value:', result[1])
    for key, value in result[4].items():
        print(f'Critical Value ({key}): {value}')

# Perform the ADF test on the 'Price' column
print("ADF Test for Stationarity:")
adf_test(data['Price'])

# If p-value > 0.05, data is likely non-stationary
# Apply differencing if non-stationary
if adfuller(data['Price'])[1] > 0.05:
    data['Price_diff'] = data['Price'].diff().dropna()

    # Re-run ADF test on differenced data
    print("\nADF Test for Differenced Data:")
    adf_test(data['Price_diff'])
    
    # Plot the differenced data
    plt.figure(figsize=(14, 7))
    plt.plot(data['Date'].iloc[1:], data['Price_diff'], color='purple')
    plt.title("Differenced Brent Oil Prices Over Time")
    plt.xlabel("Date")
    plt.ylabel("Differenced Price (USD per barrel)")
    plt.show()
